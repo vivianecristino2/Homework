{
 "cells": [
  {
   "cell_type": "markdown",
   "id": "5435ff81",
   "metadata": {},
   "source": [
    "# Exercicios de Estatisticas \n",
    "\n",
    "\n",
    "**Responda:**\n",
    "\n",
    "\n",
    "-Média\n",
    "-Moda\n",
    "-Mediana\n",
    "-Percentis 25, 50, 75 e 100\n",
    "\n",
    "\n"
   ]
  },
  {
   "cell_type": "code",
   "execution_count": 79,
   "id": "8fae5aab",
   "metadata": {},
   "outputs": [],
   "source": [
    "#importando algumas bibliotecas que serão úteis\n",
    "# importing some libraries that will be useful\n",
    "import pandas as pd #manipular tabela\n",
    "import seaborn as sns #manipular grafico\n",
    "import numpy as np #operações numpy\n",
    "import matplotlib.pyplot as plt #manipular grafico\n",
    "import statistics as st # estatisticas "
   ]
  },
  {
   "cell_type": "code",
   "execution_count": 80,
   "id": "0def80b6",
   "metadata": {},
   "outputs": [],
   "source": [
    "#lendo arquivo csv\n",
    "#read file csv\n",
    "df = pd.read_csv('df_exemplo.csv',  delim_whitespace=True)"
   ]
  },
  {
   "cell_type": "code",
   "execution_count": 81,
   "id": "900e6747",
   "metadata": {},
   "outputs": [
    {
     "name": "stdout",
     "output_type": "stream",
     "text": [
      "<class 'pandas.core.frame.DataFrame'>\n",
      "Float64Index: 774 entries, 44.0 to 36.7\n",
      "Data columns (total 6 columns):\n",
      " #   Column    Non-Null Count  Dtype  \n",
      "---  ------    --------------  -----  \n",
      " 0   Sta_ID    774 non-null    float64\n",
      " 1   Depth_ID  774 non-null    object \n",
      " 2   Depthm    774 non-null    int64  \n",
      " 3   T_degC    774 non-null    float64\n",
      " 4   O2Sat     774 non-null    float64\n",
      " 5   Salnty    774 non-null    float64\n",
      "dtypes: float64(4), int64(1), object(1)\n",
      "memory usage: 42.3+ KB\n"
     ]
    }
   ],
   "source": [
    "#informação sobre tabela\n",
    "# information about datafrema\n",
    "df.info()"
   ]
  },
  {
   "cell_type": "code",
   "execution_count": 63,
   "id": "dcda906f",
   "metadata": {},
   "outputs": [
    {
     "name": "stdout",
     "output_type": "stream",
     "text": [
      "mean: 33.60165374677006 median: 33.8485 mode: 0    32.74\n",
      "Name: Salnty, dtype: float64\n"
     ]
    }
   ],
   "source": [
    "mean = df['Salnty'].mean()\n",
    "median = df['Salnty'].median()\n",
    "mode = df['Salnty'].mode()\n",
    "\n",
    "print('mean:', mean, 'median:',median, 'mode:', mode)"
   ]
  },
  {
   "cell_type": "code",
   "execution_count": 64,
   "id": "a48ac0a0",
   "metadata": {},
   "outputs": [
    {
     "data": {
      "text/plain": [
       "count    774.000000\n",
       "mean      33.601654\n",
       "std        0.656640\n",
       "min       32.160000\n",
       "25%       32.900000\n",
       "50%       33.848500\n",
       "75%       34.187000\n",
       "max       34.520000\n",
       "Name: Salnty, dtype: float64"
      ]
     },
     "execution_count": 64,
     "metadata": {},
     "output_type": "execute_result"
    }
   ],
   "source": [
    "df['Salnty'].describe()"
   ]
  },
  {
   "cell_type": "markdown",
   "id": "326252c6",
   "metadata": {},
   "source": [
    "# calcule a variância de todas as variáveis"
   ]
  },
  {
   "cell_type": "code",
   "execution_count": 65,
   "id": "2c1072b9",
   "metadata": {},
   "outputs": [
    {
     "data": {
      "text/html": [
       "<div>\n",
       "<style scoped>\n",
       "    .dataframe tbody tr th:only-of-type {\n",
       "        vertical-align: middle;\n",
       "    }\n",
       "\n",
       "    .dataframe tbody tr th {\n",
       "        vertical-align: top;\n",
       "    }\n",
       "\n",
       "    .dataframe thead th {\n",
       "        text-align: right;\n",
       "    }\n",
       "</style>\n",
       "<table border=\"1\" class=\"dataframe\">\n",
       "  <thead>\n",
       "    <tr style=\"text-align: right;\">\n",
       "      <th></th>\n",
       "      <th>Sta_ID</th>\n",
       "      <th>Depth_ID</th>\n",
       "      <th>Depthm</th>\n",
       "      <th>T_degC</th>\n",
       "      <th>O2Sat</th>\n",
       "      <th>Salnty</th>\n",
       "    </tr>\n",
       "  </thead>\n",
       "  <tbody>\n",
       "    <tr>\n",
       "      <th>44.0</th>\n",
       "      <td>48.5</td>\n",
       "      <td>19-4904CR-HY-087-0606-04400485-0000B-3</td>\n",
       "      <td>0</td>\n",
       "      <td>10.30</td>\n",
       "      <td>92.8</td>\n",
       "      <td>33.030</td>\n",
       "    </tr>\n",
       "    <tr>\n",
       "      <th>44.0</th>\n",
       "      <td>48.5</td>\n",
       "      <td>19-4904CR-HY-087-0606-04400485-0006A-3</td>\n",
       "      <td>6</td>\n",
       "      <td>18.46</td>\n",
       "      <td>111.8</td>\n",
       "      <td>32.920</td>\n",
       "    </tr>\n",
       "    <tr>\n",
       "      <th>44.0</th>\n",
       "      <td>48.5</td>\n",
       "      <td>19-4904CR-HY-087-0606-04400485-0010A-7</td>\n",
       "      <td>10</td>\n",
       "      <td>10.29</td>\n",
       "      <td>95.0</td>\n",
       "      <td>32.951</td>\n",
       "    </tr>\n",
       "    <tr>\n",
       "      <th>44.0</th>\n",
       "      <td>48.5</td>\n",
       "      <td>19-4904CR-HY-087-0606-04400485-0015A-3</td>\n",
       "      <td>15</td>\n",
       "      <td>10.29</td>\n",
       "      <td>95.3</td>\n",
       "      <td>32.990</td>\n",
       "    </tr>\n",
       "    <tr>\n",
       "      <th>44.0</th>\n",
       "      <td>48.5</td>\n",
       "      <td>19-4904CR-HY-087-0606-04400485-0020A-7</td>\n",
       "      <td>20</td>\n",
       "      <td>10.33</td>\n",
       "      <td>95.1</td>\n",
       "      <td>33.005</td>\n",
       "    </tr>\n",
       "    <tr>\n",
       "      <th>...</th>\n",
       "      <td>...</td>\n",
       "      <td>...</td>\n",
       "      <td>...</td>\n",
       "      <td>...</td>\n",
       "      <td>...</td>\n",
       "      <td>...</td>\n",
       "    </tr>\n",
       "    <tr>\n",
       "      <th>36.7</th>\n",
       "      <td>115.0</td>\n",
       "      <td>19-4911BD-HY-318-2130-03671150-0921A-3</td>\n",
       "      <td>921</td>\n",
       "      <td>3.91</td>\n",
       "      <td>4.8</td>\n",
       "      <td>34.370</td>\n",
       "    </tr>\n",
       "    <tr>\n",
       "      <th>36.7</th>\n",
       "      <td>115.0</td>\n",
       "      <td>19-4911BD-HY-318-2130-03671150-1000A-7</td>\n",
       "      <td>1000</td>\n",
       "      <td>3.73</td>\n",
       "      <td>5.4</td>\n",
       "      <td>34.401</td>\n",
       "    </tr>\n",
       "    <tr>\n",
       "      <th>36.7</th>\n",
       "      <td>115.0</td>\n",
       "      <td>19-4911BD-HY-318-2130-03671150-1100A-7</td>\n",
       "      <td>1100</td>\n",
       "      <td>3.51</td>\n",
       "      <td>6.4</td>\n",
       "      <td>34.440</td>\n",
       "    </tr>\n",
       "    <tr>\n",
       "      <th>36.7</th>\n",
       "      <td>115.0</td>\n",
       "      <td>19-4911BD-HY-318-2130-03671150-1200A-7</td>\n",
       "      <td>1200</td>\n",
       "      <td>3.29</td>\n",
       "      <td>7.3</td>\n",
       "      <td>34.481</td>\n",
       "    </tr>\n",
       "    <tr>\n",
       "      <th>36.7</th>\n",
       "      <td>115.0</td>\n",
       "      <td>19-4911BD-HY-318-2130-03671150-1247A-3</td>\n",
       "      <td>1247</td>\n",
       "      <td>3.18</td>\n",
       "      <td>7.6</td>\n",
       "      <td>34.500</td>\n",
       "    </tr>\n",
       "  </tbody>\n",
       "</table>\n",
       "<p>774 rows × 6 columns</p>\n",
       "</div>"
      ],
      "text/plain": [
       "      Sta_ID                                Depth_ID  Depthm  T_degC  O2Sat  \\\n",
       "44.0    48.5  19-4904CR-HY-087-0606-04400485-0000B-3       0   10.30   92.8   \n",
       "44.0    48.5  19-4904CR-HY-087-0606-04400485-0006A-3       6   18.46  111.8   \n",
       "44.0    48.5  19-4904CR-HY-087-0606-04400485-0010A-7      10   10.29   95.0   \n",
       "44.0    48.5  19-4904CR-HY-087-0606-04400485-0015A-3      15   10.29   95.3   \n",
       "44.0    48.5  19-4904CR-HY-087-0606-04400485-0020A-7      20   10.33   95.1   \n",
       "...      ...                                     ...     ...     ...    ...   \n",
       "36.7   115.0  19-4911BD-HY-318-2130-03671150-0921A-3     921    3.91    4.8   \n",
       "36.7   115.0  19-4911BD-HY-318-2130-03671150-1000A-7    1000    3.73    5.4   \n",
       "36.7   115.0  19-4911BD-HY-318-2130-03671150-1100A-7    1100    3.51    6.4   \n",
       "36.7   115.0  19-4911BD-HY-318-2130-03671150-1200A-7    1200    3.29    7.3   \n",
       "36.7   115.0  19-4911BD-HY-318-2130-03671150-1247A-3    1247    3.18    7.6   \n",
       "\n",
       "      Salnty  \n",
       "44.0  33.030  \n",
       "44.0  32.920  \n",
       "44.0  32.951  \n",
       "44.0  32.990  \n",
       "44.0  33.005  \n",
       "...      ...  \n",
       "36.7  34.370  \n",
       "36.7  34.401  \n",
       "36.7  34.440  \n",
       "36.7  34.481  \n",
       "36.7  34.500  \n",
       "\n",
       "[774 rows x 6 columns]"
      ]
     },
     "execution_count": 65,
     "metadata": {},
     "output_type": "execute_result"
    }
   ],
   "source": [
    "df"
   ]
  },
  {
   "cell_type": "code",
   "execution_count": 66,
   "id": "f691caa7",
   "metadata": {},
   "outputs": [
    {
     "name": "stdout",
     "output_type": "stream",
     "text": [
      "0.6566401437630879\n"
     ]
    }
   ],
   "source": [
    "# Desvido\n",
    "\n",
    "desvio = df['Salnty'].std()\n",
    "print(desvio)"
   ]
  },
  {
   "cell_type": "code",
   "execution_count": 74,
   "id": "2893e56a",
   "metadata": {},
   "outputs": [],
   "source": [
    "# DEsvio O2Stat\n",
    "\n",
    "desvios = df['O2Sat'].std()"
   ]
  },
  {
   "cell_type": "code",
   "execution_count": 53,
   "id": "9f0d5ffd",
   "metadata": {},
   "outputs": [
    {
     "data": {
      "text/plain": [
       "0.4311762784012086"
      ]
     },
     "execution_count": 53,
     "metadata": {},
     "output_type": "execute_result"
    }
   ],
   "source": [
    "# Variancia \n",
    "\n",
    "variancia = st.variance(df['Salnty'])\n",
    "variancia"
   ]
  },
  {
   "cell_type": "code",
   "execution_count": 75,
   "id": "af70c9ef",
   "metadata": {},
   "outputs": [
    {
     "data": {
      "text/plain": [
       "1421.066460215744"
      ]
     },
     "execution_count": 75,
     "metadata": {},
     "output_type": "execute_result"
    }
   ],
   "source": [
    "# Variancia\n",
    "\n",
    "variancia1 = st.variance(df['O2Sat'])\n",
    "variancia1"
   ]
  },
  {
   "cell_type": "markdown",
   "id": "8ffff00c",
   "metadata": {},
   "source": [
    "# Plote as distribuições"
   ]
  },
  {
   "cell_type": "code",
   "execution_count": 54,
   "id": "5769c41f",
   "metadata": {},
   "outputs": [
    {
     "data": {
      "text/plain": [
       "(array([10.,  1.,  9., 17., 47., 94., 53., 33., 20., 12., 22., 19., 21.,\n",
       "        23., 34., 80., 74., 72., 76., 57.]),\n",
       " array([32.16 , 32.278, 32.396, 32.514, 32.632, 32.75 , 32.868, 32.986,\n",
       "        33.104, 33.222, 33.34 , 33.458, 33.576, 33.694, 33.812, 33.93 ,\n",
       "        34.048, 34.166, 34.284, 34.402, 34.52 ]),\n",
       " <BarContainer object of 20 artists>)"
      ]
     },
     "execution_count": 54,
     "metadata": {},
     "output_type": "execute_result"
    },
    {
     "data": {
      "image/png": "[encoded data removed]",
      "text/plain": [
       "<Figure size 432x288 with 1 Axes>"
      ]
     },
     "metadata": {
      "needs_background": "light"
     },
     "output_type": "display_data"
    }
   ],
   "source": [
    "# Plote \n",
    "\n",
    "plt.hist(df['Salnty'], bins =20)"
   ]
  },
  {
   "cell_type": "code",
   "execution_count": 57,
   "id": "5dc6d2b6",
   "metadata": {},
   "outputs": [
    {
     "data": {
      "text/plain": [
       "(array([180.,  53.,  36.,  25.,  38.,  23.,  28.,  27.,  15.,  20.,  19.,\n",
       "         20.,  25.,  26.,  28.,  89.,  76.,  37.,   8.,   1.]),\n",
       " array([  3.4 ,   9.23,  15.06,  20.89,  26.72,  32.55,  38.38,  44.21,\n",
       "         50.04,  55.87,  61.7 ,  67.53,  73.36,  79.19,  85.02,  90.85,\n",
       "         96.68, 102.51, 108.34, 114.17, 120.  ]),\n",
       " <BarContainer object of 20 artists>)"
      ]
     },
     "execution_count": 57,
     "metadata": {},
     "output_type": "execute_result"
    },
    {
     "data": {
      "image/png": "[encoded data removed]",
      "text/plain": [
       "<Figure size 432x288 with 1 Axes>"
      ]
     },
     "metadata": {
      "needs_background": "light"
     },
     "output_type": "display_data"
    }
   ],
   "source": [
    "# Plote variavel O2Stat\n",
    "\n",
    "plt.hist(df['O2Sat'], bins =20)"
   ]
  },
  {
   "cell_type": "markdown",
   "id": "c4db58b2",
   "metadata": {},
   "source": [
    "# calculando assimetria "
   ]
  },
  {
   "cell_type": "code",
   "execution_count": 55,
   "id": "df25d934",
   "metadata": {},
   "outputs": [
    {
     "data": {
      "text/plain": [
       "3.0976639377055706e-42"
      ]
     },
     "execution_count": 55,
     "metadata": {},
     "output_type": "execute_result"
    }
   ],
   "source": [
    "# assimetria \n",
    "media = df['Salnty'].mean()\n",
    "desvio = df['Salnty'].std()\n",
    "numerador = sum(df['Salnty']- df['Salnty'].mean())**4\n",
    "denominador = (desvio)**4\n",
    "assimetria = numerador/denominador\n",
    "assimetria"
   ]
  },
  {
   "cell_type": "code",
   "execution_count": 83,
   "id": "f83b4257",
   "metadata": {},
   "outputs": [
    {
     "ename": "KeyError",
     "evalue": "'O2Stat'",
     "output_type": "error",
     "traceback": [
      "\u001b[1;31m---------------------------------------------------------------------------\u001b[0m",
      "\u001b[1;31mKeyError\u001b[0m                                  Traceback (most recent call last)",
      "File \u001b[1;32m~\\anaconda3\\lib\\site-packages\\pandas\\core\\indexes\\base.py:3621\u001b[0m, in \u001b[0;36mIndex.get_loc\u001b[1;34m(self, key, method, tolerance)\u001b[0m\n\u001b[0;32m   3620\u001b[0m \u001b[38;5;28;01mtry\u001b[39;00m:\n\u001b[1;32m-> 3621\u001b[0m     \u001b[38;5;28;01mreturn\u001b[39;00m \u001b[38;5;28;43mself\u001b[39;49m\u001b[38;5;241;43m.\u001b[39;49m\u001b[43m_engine\u001b[49m\u001b[38;5;241;43m.\u001b[39;49m\u001b[43mget_loc\u001b[49m\u001b[43m(\u001b[49m\u001b[43mcasted_key\u001b[49m\u001b[43m)\u001b[49m\n\u001b[0;32m   3622\u001b[0m \u001b[38;5;28;01mexcept\u001b[39;00m \u001b[38;5;167;01mKeyError\u001b[39;00m \u001b[38;5;28;01mas\u001b[39;00m err:\n",
      "File \u001b[1;32m~\\anaconda3\\lib\\site-packages\\pandas\\_libs\\index.pyx:136\u001b[0m, in \u001b[0;36mpandas._libs.index.IndexEngine.get_loc\u001b[1;34m()\u001b[0m\n",
      "File \u001b[1;32m~\\anaconda3\\lib\\site-packages\\pandas\\_libs\\index.pyx:163\u001b[0m, in \u001b[0;36mpandas._libs.index.IndexEngine.get_loc\u001b[1;34m()\u001b[0m\n",
      "File \u001b[1;32mpandas\\_libs\\hashtable_class_helper.pxi:5198\u001b[0m, in \u001b[0;36mpandas._libs.hashtable.PyObjectHashTable.get_item\u001b[1;34m()\u001b[0m\n",
      "File \u001b[1;32mpandas\\_libs\\hashtable_class_helper.pxi:5206\u001b[0m, in \u001b[0;36mpandas._libs.hashtable.PyObjectHashTable.get_item\u001b[1;34m()\u001b[0m\n",
      "\u001b[1;31mKeyError\u001b[0m: 'O2Stat'",
      "\nThe above exception was the direct cause of the following exception:\n",
      "\u001b[1;31mKeyError\u001b[0m                                  Traceback (most recent call last)",
      "Input \u001b[1;32mIn [83]\u001b[0m, in \u001b[0;36m<cell line: 3>\u001b[1;34m()\u001b[0m\n\u001b[0;32m      1\u001b[0m \u001b[38;5;66;03m# assimetria O2Stat\u001b[39;00m\n\u001b[1;32m----> 3\u001b[0m mediaa \u001b[38;5;241m=\u001b[39m \u001b[43mdf\u001b[49m\u001b[43m[\u001b[49m\u001b[38;5;124;43m'\u001b[39;49m\u001b[38;5;124;43mO2Stat\u001b[39;49m\u001b[38;5;124;43m'\u001b[39;49m\u001b[43m]\u001b[49m\u001b[38;5;241m.\u001b[39mmean()\n\u001b[0;32m      4\u001b[0m desvioo \u001b[38;5;241m=\u001b[39m df[\u001b[38;5;124m'\u001b[39m\u001b[38;5;124mO2Stat\u001b[39m\u001b[38;5;124m'\u001b[39m]\u001b[38;5;241m.\u001b[39mstd()\n\u001b[0;32m      5\u001b[0m numeradorr \u001b[38;5;241m=\u001b[39m \u001b[38;5;28msum\u001b[39m(df[\u001b[38;5;124m'\u001b[39m\u001b[38;5;124mO2Stat\u001b[39m\u001b[38;5;124m'\u001b[39m]\u001b[38;5;241m-\u001b[39m df[\u001b[38;5;124m'\u001b[39m\u001b[38;5;124mO2Stat\u001b[39m\u001b[38;5;124m'\u001b[39m]\u001b[38;5;241m.\u001b[39mmean())\u001b[38;5;241m*\u001b[39m\u001b[38;5;241m*\u001b[39m\u001b[38;5;241m4\u001b[39m\n",
      "File \u001b[1;32m~\\anaconda3\\lib\\site-packages\\pandas\\core\\frame.py:3505\u001b[0m, in \u001b[0;36mDataFrame.__getitem__\u001b[1;34m(self, key)\u001b[0m\n\u001b[0;32m   3503\u001b[0m \u001b[38;5;28;01mif\u001b[39;00m \u001b[38;5;28mself\u001b[39m\u001b[38;5;241m.\u001b[39mcolumns\u001b[38;5;241m.\u001b[39mnlevels \u001b[38;5;241m>\u001b[39m \u001b[38;5;241m1\u001b[39m:\n\u001b[0;32m   3504\u001b[0m     \u001b[38;5;28;01mreturn\u001b[39;00m \u001b[38;5;28mself\u001b[39m\u001b[38;5;241m.\u001b[39m_getitem_multilevel(key)\n\u001b[1;32m-> 3505\u001b[0m indexer \u001b[38;5;241m=\u001b[39m \u001b[38;5;28;43mself\u001b[39;49m\u001b[38;5;241;43m.\u001b[39;49m\u001b[43mcolumns\u001b[49m\u001b[38;5;241;43m.\u001b[39;49m\u001b[43mget_loc\u001b[49m\u001b[43m(\u001b[49m\u001b[43mkey\u001b[49m\u001b[43m)\u001b[49m\n\u001b[0;32m   3506\u001b[0m \u001b[38;5;28;01mif\u001b[39;00m is_integer(indexer):\n\u001b[0;32m   3507\u001b[0m     indexer \u001b[38;5;241m=\u001b[39m [indexer]\n",
      "File \u001b[1;32m~\\anaconda3\\lib\\site-packages\\pandas\\core\\indexes\\base.py:3623\u001b[0m, in \u001b[0;36mIndex.get_loc\u001b[1;34m(self, key, method, tolerance)\u001b[0m\n\u001b[0;32m   3621\u001b[0m     \u001b[38;5;28;01mreturn\u001b[39;00m \u001b[38;5;28mself\u001b[39m\u001b[38;5;241m.\u001b[39m_engine\u001b[38;5;241m.\u001b[39mget_loc(casted_key)\n\u001b[0;32m   3622\u001b[0m \u001b[38;5;28;01mexcept\u001b[39;00m \u001b[38;5;167;01mKeyError\u001b[39;00m \u001b[38;5;28;01mas\u001b[39;00m err:\n\u001b[1;32m-> 3623\u001b[0m     \u001b[38;5;28;01mraise\u001b[39;00m \u001b[38;5;167;01mKeyError\u001b[39;00m(key) \u001b[38;5;28;01mfrom\u001b[39;00m \u001b[38;5;21;01merr\u001b[39;00m\n\u001b[0;32m   3624\u001b[0m \u001b[38;5;28;01mexcept\u001b[39;00m \u001b[38;5;167;01mTypeError\u001b[39;00m:\n\u001b[0;32m   3625\u001b[0m     \u001b[38;5;66;03m# If we have a listlike key, _check_indexing_error will raise\u001b[39;00m\n\u001b[0;32m   3626\u001b[0m     \u001b[38;5;66;03m#  InvalidIndexError. Otherwise we fall through and re-raise\u001b[39;00m\n\u001b[0;32m   3627\u001b[0m     \u001b[38;5;66;03m#  the TypeError.\u001b[39;00m\n\u001b[0;32m   3628\u001b[0m     \u001b[38;5;28mself\u001b[39m\u001b[38;5;241m.\u001b[39m_check_indexing_error(key)\n",
      "\u001b[1;31mKeyError\u001b[0m: 'O2Stat'"
     ]
    }
   ],
   "source": [
    "# assimetria O2Stat\n",
    "\n",
    "mediaa = df['O2Stat'].mean()\n",
    "desvioo = df['O2Stat'].std()\n",
    "numeradorr = sum(df['O2Stat']- df['O2Stat'].mean())**4\n",
    "denominadorr = (desvio)**4\n",
    "assimetriaa = numerador/denominador\n",
    "assimetriaa"
   ]
  },
  {
   "cell_type": "code",
   "execution_count": null,
   "id": "e183998e",
   "metadata": {},
   "outputs": [],
   "source": [
    "# calculando curtose"
   ]
  },
  {
   "cell_type": "code",
   "execution_count": 56,
   "id": "d6816999",
   "metadata": {},
   "outputs": [
    {
     "data": {
      "text/plain": [
       "3.0976639377055706e-42"
      ]
     },
     "execution_count": 56,
     "metadata": {},
     "output_type": "execute_result"
    }
   ],
   "source": [
    "# curtose \n",
    "media = df['Salnty'].mean()\n",
    "desvio = df['Salnty'].std()\n",
    "numerador = sum(df['Salnty']- df['Salnty'].mean())**4\n",
    "denominador = (desvio)**4\n",
    "curtose = numerador/denominador\n",
    "curtose"
   ]
  },
  {
   "cell_type": "code",
   "execution_count": null,
   "id": "263e29ff",
   "metadata": {},
   "outputs": [],
   "source": [
    "# curtose \n",
    "media = df['Salnty'].mean()\n",
    "desvio = df['Salnty'].std()\n",
    "numerador = sum(df['Salnty']- df['Salnty'].mean())**4\n",
    "denominador = (desvio)**4\n",
    "curtose = numerador/denominador\n",
    "curtose"
   ]
  }
 ],
 "metadata": {
  "kernelspec": {
   "display_name": "Python 3 (ipykernel)",
   "language": "python",
   "name": "python3"
  },
  "language_info": {
   "codemirror_mode": {
    "name": "ipython",
    "version": 3
   },
   "file_extension": ".py",
   "mimetype": "text/x-python",
   "name": "python",
   "nbconvert_exporter": "python",
   "pygments_lexer": "ipython3",
   "version": "3.9.12"
  }
 },
 "nbformat": 4,
 "nbformat_minor": 5
}
