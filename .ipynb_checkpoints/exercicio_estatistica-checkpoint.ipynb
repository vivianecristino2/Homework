{
 "cells": [
  {
   "cell_type": "markdown",
   "id": "9cfb728a",
   "metadata": {},
   "source": [
    "# Exercicios de Estatisticas \n",
    "\n",
    "\n",
    "**Responda:**\n",
    "\n",
    "\n",
    "- Média\n",
    "-Moda\n",
    "-Mediana\n",
    "-Percentis 25, 50, 75 e 100\n",
    "\n",
    "\n"
   ]
  },
  {
   "cell_type": "code",
   "execution_count": 1,
   "id": "a5307ab9",
   "metadata": {},
   "outputs": [],
   "source": [
    "#importando algumas bibliotecas que serão úteis\n",
    "# importing some libraries that will be useful\n",
    "import pandas as pd #manipular tabela\n",
    "import seaborn as sns #manipular grafico\n",
    "import numpy as np #operações numpy\n",
    "import matplotlib.pyplot as plt #manipular grafico"
   ]
  },
  {
   "cell_type": "code",
   "execution_count": 6,
   "id": "b17a8b6c",
   "metadata": {},
   "outputs": [],
   "source": [
    "#lendo arquivo csv\n",
    "#read file csv\n",
    "df = pd.read_csv('df_exemplo.csv',  delim_whitespace=True)"
   ]
  },
  {
   "cell_type": "code",
   "execution_count": 7,
   "id": "ae5bec54",
   "metadata": {},
   "outputs": [
    {
     "name": "stdout",
     "output_type": "stream",
     "text": [
      "<class 'pandas.core.frame.DataFrame'>\n",
      "Float64Index: 774 entries, 44.0 to 36.7\n",
      "Data columns (total 6 columns):\n",
      " #   Column    Non-Null Count  Dtype  \n",
      "---  ------    --------------  -----  \n",
      " 0   Sta_ID    774 non-null    float64\n",
      " 1   Depth_ID  774 non-null    object \n",
      " 2   Depthm    774 non-null    int64  \n",
      " 3   T_degC    774 non-null    float64\n",
      " 4   O2Sat     774 non-null    float64\n",
      " 5   Salnty    774 non-null    float64\n",
      "dtypes: float64(4), int64(1), object(1)\n",
      "memory usage: 42.3+ KB\n"
     ]
    }
   ],
   "source": [
    "#informação sobre tabela\n",
    "# information about datafrema\n",
    "df.info()"
   ]
  },
  {
   "cell_type": "code",
   "execution_count": 10,
   "id": "b1ae3ff1",
   "metadata": {},
   "outputs": [
    {
     "name": "stdout",
     "output_type": "stream",
     "text": [
      "mean: 33.60165374677006 median: 33.8485 mode: 0    32.74\n",
      "Name: Salnty, dtype: float64\n"
     ]
    }
   ],
   "source": [
    "mean = df['Salnty'].mean()\n",
    "median = df['Salnty'].median()\n",
    "mode = df['Salnty'].mode()\n",
    "\n",
    "print('mean:', mean, 'median:',median, 'mode:', mode)"
   ]
  },
  {
   "cell_type": "code",
   "execution_count": 12,
   "id": "1ea1e903",
   "metadata": {},
   "outputs": [
    {
     "data": {
      "text/plain": [
       "count    774.000000\n",
       "mean      33.601654\n",
       "std        0.656640\n",
       "min       32.160000\n",
       "25%       32.900000\n",
       "50%       33.848500\n",
       "75%       34.187000\n",
       "max       34.520000\n",
       "Name: Salnty, dtype: float64"
      ]
     },
     "execution_count": 12,
     "metadata": {},
     "output_type": "execute_result"
    }
   ],
   "source": [
    "df['Salnty'].describe()"
   ]
  },
  {
   "cell_type": "code",
   "execution_count": null,
   "id": "10e842bb",
   "metadata": {},
   "outputs": [],
   "source": []
  }
 ],
 "metadata": {
  "kernelspec": {
   "display_name": "Python 3 (ipykernel)",
   "language": "python",
   "name": "python3"
  },
  "language_info": {
   "codemirror_mode": {
    "name": "ipython",
    "version": 3
   },
   "file_extension": ".py",
   "mimetype": "text/x-python",
   "name": "python",
   "nbconvert_exporter": "python",
   "pygments_lexer": "ipython3",
   "version": "3.9.12"
  }
 },
 "nbformat": 4,
 "nbformat_minor": 5
}
