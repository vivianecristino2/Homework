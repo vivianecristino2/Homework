{
 "cells": [
  {
   "cell_type": "markdown",
   "id": "5435ff81",
   "metadata": {},
   "source": [
    "# Exercicios de Estatisticas \n",
    "\n",
    "\n",
    "**Responda:**\n",
    "\n",
    "\n",
    "-Média\n",
    "-Moda\n",
    "-Mediana\n",
    "-Percentis 25, 50, 75 e 100\n",
    "\n",
    "\n"
   ]
  },
  {
   "cell_type": "code",
   "execution_count": 1,
   "id": "8fae5aab",
   "metadata": {},
   "outputs": [],
   "source": [
    "#importando algumas bibliotecas que serão úteis\n",
    "# importing some libraries that will be useful\n",
    "import pandas as pd #manipular tabela\n",
    "import seaborn as sns #manipular grafico\n",
    "import numpy as np #operações numpy\n",
    "import matplotlib.pyplot as plt #manipular grafico\n",
    "import statistics as st # estatisticas "
   ]
  },
  {
   "cell_type": "code",
   "execution_count": 2,
   "id": "0def80b6",
   "metadata": {},
   "outputs": [],
   "source": [
    "#lendo arquivo csv\n",
    "#read file csv\n",
    "df = pd.read_csv('df_exemplo.csv',  delim_whitespace=True)"
   ]
  },
  {
   "cell_type": "code",
   "execution_count": 3,
   "id": "900e6747",
   "metadata": {},
   "outputs": [
    {
     "name": "stdout",
     "output_type": "stream",
     "text": [
      "<class 'pandas.core.frame.DataFrame'>\n",
      "Float64Index: 774 entries, 44.0 to 36.7\n",
      "Data columns (total 6 columns):\n",
      " #   Column    Non-Null Count  Dtype  \n",
      "---  ------    --------------  -----  \n",
      " 0   Sta_ID    774 non-null    float64\n",
      " 1   Depth_ID  774 non-null    object \n",
      " 2   Depthm    774 non-null    int64  \n",
      " 3   T_degC    774 non-null    float64\n",
      " 4   O2Sat     774 non-null    float64\n",
      " 5   Salnty    774 non-null    float64\n",
      "dtypes: float64(4), int64(1), object(1)\n",
      "memory usage: 42.3+ KB\n"
     ]
    }
   ],
   "source": [
    "#informação sobre tabela\n",
    "# information about datafrema\n",
    "df.info()"
   ]
  },
  {
   "cell_type": "code",
   "execution_count": 4,
   "id": "dcda906f",
   "metadata": {},
   "outputs": [
    {
     "name": "stdout",
     "output_type": "stream",
     "text": [
      "mean: 8.229354005167954 median: 7.71 mode: 0     3.04\n",
      "1     4.21\n",
      "2     4.22\n",
      "3     7.67\n",
      "4     9.63\n",
      "5     9.75\n",
      "6    12.35\n",
      "Name: T_degC, dtype: float64\n"
     ]
    }
   ],
   "source": [
    "mean = df['T_degC'].mean()\n",
    "median = df['T_degC'].median()\n",
    "mode = df['T_degC'].mode()\n",
    "\n",
    "print('mean:', mean, 'median:',median, 'mode:', mode)"
   ]
  },
  {
   "cell_type": "code",
   "execution_count": 5,
   "id": "a48ac0a0",
   "metadata": {},
   "outputs": [
    {
     "data": {
      "text/plain": [
       "count    774.000000\n",
       "mean       8.229354\n",
       "std        3.929834\n",
       "min        2.880000\n",
       "25%        4.865000\n",
       "50%        7.710000\n",
       "75%       10.285000\n",
       "max       18.700000\n",
       "Name: T_degC, dtype: float64"
      ]
     },
     "execution_count": 5,
     "metadata": {},
     "output_type": "execute_result"
    }
   ],
   "source": [
    "df['T_degC'].describe()"
   ]
  },
  {
   "cell_type": "markdown",
   "id": "326252c6",
   "metadata": {},
   "source": [
    "# calcule a variância de todas as variáveis"
   ]
  },
  {
   "cell_type": "code",
   "execution_count": 6,
   "id": "2c1072b9",
   "metadata": {},
   "outputs": [
    {
     "data": {
      "text/html": [
       "<div>\n",
       "<style scoped>\n",
       "    .dataframe tbody tr th:only-of-type {\n",
       "        vertical-align: middle;\n",
       "    }\n",
       "\n",
       "    .dataframe tbody tr th {\n",
       "        vertical-align: top;\n",
       "    }\n",
       "\n",
       "    .dataframe thead th {\n",
       "        text-align: right;\n",
       "    }\n",
       "</style>\n",
       "<table border=\"1\" class=\"dataframe\">\n",
       "  <thead>\n",
       "    <tr style=\"text-align: right;\">\n",
       "      <th></th>\n",
       "      <th>Sta_ID</th>\n",
       "      <th>Depth_ID</th>\n",
       "      <th>Depthm</th>\n",
       "      <th>T_degC</th>\n",
       "      <th>O2Sat</th>\n",
       "      <th>Salnty</th>\n",
       "    </tr>\n",
       "  </thead>\n",
       "  <tbody>\n",
       "    <tr>\n",
       "      <th>44.0</th>\n",
       "      <td>48.5</td>\n",
       "      <td>19-4904CR-HY-087-0606-04400485-0000B-3</td>\n",
       "      <td>0</td>\n",
       "      <td>10.30</td>\n",
       "      <td>92.8</td>\n",
       "      <td>33.030</td>\n",
       "    </tr>\n",
       "    <tr>\n",
       "      <th>44.0</th>\n",
       "      <td>48.5</td>\n",
       "      <td>19-4904CR-HY-087-0606-04400485-0006A-3</td>\n",
       "      <td>6</td>\n",
       "      <td>18.46</td>\n",
       "      <td>111.8</td>\n",
       "      <td>32.920</td>\n",
       "    </tr>\n",
       "    <tr>\n",
       "      <th>44.0</th>\n",
       "      <td>48.5</td>\n",
       "      <td>19-4904CR-HY-087-0606-04400485-0010A-7</td>\n",
       "      <td>10</td>\n",
       "      <td>10.29</td>\n",
       "      <td>95.0</td>\n",
       "      <td>32.951</td>\n",
       "    </tr>\n",
       "    <tr>\n",
       "      <th>44.0</th>\n",
       "      <td>48.5</td>\n",
       "      <td>19-4904CR-HY-087-0606-04400485-0015A-3</td>\n",
       "      <td>15</td>\n",
       "      <td>10.29</td>\n",
       "      <td>95.3</td>\n",
       "      <td>32.990</td>\n",
       "    </tr>\n",
       "    <tr>\n",
       "      <th>44.0</th>\n",
       "      <td>48.5</td>\n",
       "      <td>19-4904CR-HY-087-0606-04400485-0020A-7</td>\n",
       "      <td>20</td>\n",
       "      <td>10.33</td>\n",
       "      <td>95.1</td>\n",
       "      <td>33.005</td>\n",
       "    </tr>\n",
       "    <tr>\n",
       "      <th>...</th>\n",
       "      <td>...</td>\n",
       "      <td>...</td>\n",
       "      <td>...</td>\n",
       "      <td>...</td>\n",
       "      <td>...</td>\n",
       "      <td>...</td>\n",
       "    </tr>\n",
       "    <tr>\n",
       "      <th>36.7</th>\n",
       "      <td>115.0</td>\n",
       "      <td>19-4911BD-HY-318-2130-03671150-0921A-3</td>\n",
       "      <td>921</td>\n",
       "      <td>3.91</td>\n",
       "      <td>4.8</td>\n",
       "      <td>34.370</td>\n",
       "    </tr>\n",
       "    <tr>\n",
       "      <th>36.7</th>\n",
       "      <td>115.0</td>\n",
       "      <td>19-4911BD-HY-318-2130-03671150-1000A-7</td>\n",
       "      <td>1000</td>\n",
       "      <td>3.73</td>\n",
       "      <td>5.4</td>\n",
       "      <td>34.401</td>\n",
       "    </tr>\n",
       "    <tr>\n",
       "      <th>36.7</th>\n",
       "      <td>115.0</td>\n",
       "      <td>19-4911BD-HY-318-2130-03671150-1100A-7</td>\n",
       "      <td>1100</td>\n",
       "      <td>3.51</td>\n",
       "      <td>6.4</td>\n",
       "      <td>34.440</td>\n",
       "    </tr>\n",
       "    <tr>\n",
       "      <th>36.7</th>\n",
       "      <td>115.0</td>\n",
       "      <td>19-4911BD-HY-318-2130-03671150-1200A-7</td>\n",
       "      <td>1200</td>\n",
       "      <td>3.29</td>\n",
       "      <td>7.3</td>\n",
       "      <td>34.481</td>\n",
       "    </tr>\n",
       "    <tr>\n",
       "      <th>36.7</th>\n",
       "      <td>115.0</td>\n",
       "      <td>19-4911BD-HY-318-2130-03671150-1247A-3</td>\n",
       "      <td>1247</td>\n",
       "      <td>3.18</td>\n",
       "      <td>7.6</td>\n",
       "      <td>34.500</td>\n",
       "    </tr>\n",
       "  </tbody>\n",
       "</table>\n",
       "<p>774 rows × 6 columns</p>\n",
       "</div>"
      ],
      "text/plain": [
       "      Sta_ID                                Depth_ID  Depthm  T_degC  O2Sat  \\\n",
       "44.0    48.5  19-4904CR-HY-087-0606-04400485-0000B-3       0   10.30   92.8   \n",
       "44.0    48.5  19-4904CR-HY-087-0606-04400485-0006A-3       6   18.46  111.8   \n",
       "44.0    48.5  19-4904CR-HY-087-0606-04400485-0010A-7      10   10.29   95.0   \n",
       "44.0    48.5  19-4904CR-HY-087-0606-04400485-0015A-3      15   10.29   95.3   \n",
       "44.0    48.5  19-4904CR-HY-087-0606-04400485-0020A-7      20   10.33   95.1   \n",
       "...      ...                                     ...     ...     ...    ...   \n",
       "36.7   115.0  19-4911BD-HY-318-2130-03671150-0921A-3     921    3.91    4.8   \n",
       "36.7   115.0  19-4911BD-HY-318-2130-03671150-1000A-7    1000    3.73    5.4   \n",
       "36.7   115.0  19-4911BD-HY-318-2130-03671150-1100A-7    1100    3.51    6.4   \n",
       "36.7   115.0  19-4911BD-HY-318-2130-03671150-1200A-7    1200    3.29    7.3   \n",
       "36.7   115.0  19-4911BD-HY-318-2130-03671150-1247A-3    1247    3.18    7.6   \n",
       "\n",
       "      Salnty  \n",
       "44.0  33.030  \n",
       "44.0  32.920  \n",
       "44.0  32.951  \n",
       "44.0  32.990  \n",
       "44.0  33.005  \n",
       "...      ...  \n",
       "36.7  34.370  \n",
       "36.7  34.401  \n",
       "36.7  34.440  \n",
       "36.7  34.481  \n",
       "36.7  34.500  \n",
       "\n",
       "[774 rows x 6 columns]"
      ]
     },
     "execution_count": 6,
     "metadata": {},
     "output_type": "execute_result"
    }
   ],
   "source": [
    "df"
   ]
  },
  {
   "cell_type": "code",
   "execution_count": 7,
   "id": "f691caa7",
   "metadata": {},
   "outputs": [
    {
     "name": "stdout",
     "output_type": "stream",
     "text": [
      "3.9298343185209883\n"
     ]
    }
   ],
   "source": [
    "# Desvido\n",
    "\n",
    "desvio = df['T_degC'].std()\n",
    "print(desvio)"
   ]
  },
  {
   "cell_type": "code",
   "execution_count": 8,
   "id": "9f0d5ffd",
   "metadata": {},
   "outputs": [
    {
     "data": {
      "text/plain": [
       "15.443597771025335"
      ]
     },
     "execution_count": 8,
     "metadata": {},
     "output_type": "execute_result"
    }
   ],
   "source": [
    "# Variancia \n",
    "\n",
    "variancia = st.variance(df['T_degC'])\n",
    "variancia"
   ]
  },
  {
   "cell_type": "markdown",
   "id": "8ffff00c",
   "metadata": {},
   "source": [
    "# Plote as distribuições"
   ]
  },
  {
   "cell_type": "code",
   "execution_count": 9,
   "id": "5769c41f",
   "metadata": {},
   "outputs": [
    {
     "data": {
      "text/plain": [
       "(array([70., 87., 70., 48., 48., 57., 72., 55., 59., 33., 27., 25., 14.,\n",
       "        16., 25., 15., 18.,  9., 15., 11.]),\n",
       " array([ 2.88 ,  3.671,  4.462,  5.253,  6.044,  6.835,  7.626,  8.417,\n",
       "         9.208,  9.999, 10.79 , 11.581, 12.372, 13.163, 13.954, 14.745,\n",
       "        15.536, 16.327, 17.118, 17.909, 18.7  ]),\n",
       " <BarContainer object of 20 artists>)"
      ]
     },
     "execution_count": 9,
     "metadata": {},
     "output_type": "execute_result"
    },
    {
     "data": {
      "image/png": "[encoded data removed]",
      "text/plain": [
       "<Figure size 432x288 with 1 Axes>"
      ]
     },
     "metadata": {
      "needs_background": "light"
     },
     "output_type": "display_data"
    }
   ],
   "source": [
    "# Plote \n",
    "\n",
    "plt.hist(df['T_degC'], bins =20)"
   ]
  },
  {
   "cell_type": "markdown",
   "id": "c4db58b2",
   "metadata": {},
   "source": [
    "# calculando assimetria "
   ]
  },
  {
   "cell_type": "code",
   "execution_count": 10,
   "id": "df25d934",
   "metadata": {},
   "outputs": [
    {
     "data": {
      "text/plain": [
       "8.162148073177365e-37"
      ]
     },
     "execution_count": 10,
     "metadata": {},
     "output_type": "execute_result"
    }
   ],
   "source": [
    "# assimetria \n",
    "media = df['T_degC'].mean()\n",
    "desvio = df['T_degC'].std()\n",
    "numerador = sum(df['T_degC']- df['T_degC'].mean())**3\n",
    "denominador = (desvio)**3\n",
    "assimetria = numerador/denominador\n",
    "assimetria"
   ]
  },
  {
   "cell_type": "code",
   "execution_count": null,
   "id": "e183998e",
   "metadata": {},
   "outputs": [],
   "source": [
    "# calculando curtose"
   ]
  },
  {
   "cell_type": "code",
   "execution_count": 12,
   "id": "d6816999",
   "metadata": {},
   "outputs": [
    {
     "data": {
      "text/plain": [
       "4.142724543219848e-48"
      ]
     },
     "execution_count": 12,
     "metadata": {},
     "output_type": "execute_result"
    }
   ],
   "source": [
    "# curtose \n",
    "media = df['T_degC'].mean()\n",
    "desvio = df['O2Sat'].std()\n",
    "numerador = sum(df['O2Sat']- df['O2Sat'].mean())**4\n",
    "denominador = (desvio)**4\n",
    "curtose = numerador/denominador\n",
    "curtose"
   ]
  },
  {
   "cell_type": "code",
   "execution_count": null,
   "id": "b6a46780",
   "metadata": {},
   "outputs": [],
   "source": []
  }
 ],
 "metadata": {
  "kernelspec": {
   "display_name": "Python 3 (ipykernel)",
   "language": "python",
   "name": "python3"
  },
  "language_info": {
   "codemirror_mode": {
    "name": "ipython",
    "version": 3
   },
   "file_extension": ".py",
   "mimetype": "text/x-python",
   "name": "python",
   "nbconvert_exporter": "python",
   "pygments_lexer": "ipython3",
   "version": "3.9.12"
  }
 },
 "nbformat": 4,
 "nbformat_minor": 5
}
