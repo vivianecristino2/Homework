{
 "cells": [
  {
   "cell_type": "markdown",
   "id": "5435ff81",
   "metadata": {},
   "source": [
    "# Exercicios de Estatisticas \n",
    "\n",
    "\n",
    "**Responda:**\n",
    "\n",
    "\n",
    "-Média\n",
    "-Moda\n",
    "-Mediana\n",
    "-Percentis 25, 50, 75 e 100\n",
    "\n",
    "\n"
   ]
  },
  {
   "cell_type": "code",
   "execution_count": 14,
   "id": "8fae5aab",
   "metadata": {},
   "outputs": [],
   "source": [
    "#importando algumas bibliotecas que serão úteis\n",
    "# importing some libraries that will be useful\n",
    "import pandas as pd #manipular tabela\n",
    "import seaborn as sns #manipular grafico\n",
    "import numpy as np #operações numpy\n",
    "import matplotlib.pyplot as plt #manipular grafico\n",
    "import statistics as st # estatisticas "
   ]
  },
  {
   "cell_type": "code",
   "execution_count": 15,
   "id": "0def80b6",
   "metadata": {},
   "outputs": [],
   "source": [
    "#lendo arquivo csv\n",
    "#read file csv\n",
    "df = pd.read_csv('df_exemplo.csv',  delim_whitespace=True)"
   ]
  },
  {
   "cell_type": "code",
   "execution_count": 16,
   "id": "900e6747",
   "metadata": {},
   "outputs": [
    {
     "name": "stdout",
     "output_type": "stream",
     "text": [
      "<class 'pandas.core.frame.DataFrame'>\n",
      "Float64Index: 774 entries, 44.0 to 36.7\n",
      "Data columns (total 6 columns):\n",
      " #   Column    Non-Null Count  Dtype  \n",
      "---  ------    --------------  -----  \n",
      " 0   Sta_ID    774 non-null    float64\n",
      " 1   Depth_ID  774 non-null    object \n",
      " 2   Depthm    774 non-null    int64  \n",
      " 3   T_degC    774 non-null    float64\n",
      " 4   O2Sat     774 non-null    float64\n",
      " 5   Salnty    774 non-null    float64\n",
      "dtypes: float64(4), int64(1), object(1)\n",
      "memory usage: 42.3+ KB\n"
     ]
    }
   ],
   "source": [
    "#informação sobre tabela\n",
    "# information about datafrema\n",
    "df.info()"
   ]
  },
  {
   "cell_type": "code",
   "execution_count": 17,
   "id": "dcda906f",
   "metadata": {},
   "outputs": [
    {
     "name": "stdout",
     "output_type": "stream",
     "text": [
      "mean: 341.3501291989664 median: 200.0 mode: 0      10\n",
      "1      20\n",
      "2      30\n",
      "3      50\n",
      "4      75\n",
      "5     100\n",
      "6     125\n",
      "7     150\n",
      "8     200\n",
      "9     250\n",
      "10    300\n",
      "11    400\n",
      "12    500\n",
      "13    600\n",
      "Name: Depthm, dtype: int64\n"
     ]
    }
   ],
   "source": [
    "mean = df['Depthm'].mean()\n",
    "median = df['Depthm'].median()\n",
    "mode = df['Depthm'].mode()\n",
    "\n",
    "print('mean:', mean, 'median:',median, 'mode:', mode)"
   ]
  },
  {
   "cell_type": "code",
   "execution_count": 18,
   "id": "a48ac0a0",
   "metadata": {},
   "outputs": [
    {
     "data": {
      "text/plain": [
       "count     774.000000\n",
       "mean      341.350129\n",
       "std       350.328591\n",
       "min         0.000000\n",
       "25%        62.000000\n",
       "50%       200.000000\n",
       "75%       587.250000\n",
       "max      1316.000000\n",
       "Name: Depthm, dtype: float64"
      ]
     },
     "execution_count": 18,
     "metadata": {},
     "output_type": "execute_result"
    }
   ],
   "source": [
    "df['Depthm'].describe()"
   ]
  },
  {
   "cell_type": "markdown",
   "id": "326252c6",
   "metadata": {},
   "source": [
    "# calcule a variância de todas as variáveis"
   ]
  },
  {
   "cell_type": "code",
   "execution_count": 19,
   "id": "2c1072b9",
   "metadata": {},
   "outputs": [
    {
     "data": {
      "text/html": [
       "<div>\n",
       "<style scoped>\n",
       "    .dataframe tbody tr th:only-of-type {\n",
       "        vertical-align: middle;\n",
       "    }\n",
       "\n",
       "    .dataframe tbody tr th {\n",
       "        vertical-align: top;\n",
       "    }\n",
       "\n",
       "    .dataframe thead th {\n",
       "        text-align: right;\n",
       "    }\n",
       "</style>\n",
       "<table border=\"1\" class=\"dataframe\">\n",
       "  <thead>\n",
       "    <tr style=\"text-align: right;\">\n",
       "      <th></th>\n",
       "      <th>Sta_ID</th>\n",
       "      <th>Depth_ID</th>\n",
       "      <th>Depthm</th>\n",
       "      <th>T_degC</th>\n",
       "      <th>O2Sat</th>\n",
       "      <th>Salnty</th>\n",
       "    </tr>\n",
       "  </thead>\n",
       "  <tbody>\n",
       "    <tr>\n",
       "      <th>44.0</th>\n",
       "      <td>48.5</td>\n",
       "      <td>19-4904CR-HY-087-0606-04400485-0000B-3</td>\n",
       "      <td>0</td>\n",
       "      <td>10.30</td>\n",
       "      <td>92.8</td>\n",
       "      <td>33.030</td>\n",
       "    </tr>\n",
       "    <tr>\n",
       "      <th>44.0</th>\n",
       "      <td>48.5</td>\n",
       "      <td>19-4904CR-HY-087-0606-04400485-0006A-3</td>\n",
       "      <td>6</td>\n",
       "      <td>18.46</td>\n",
       "      <td>111.8</td>\n",
       "      <td>32.920</td>\n",
       "    </tr>\n",
       "    <tr>\n",
       "      <th>44.0</th>\n",
       "      <td>48.5</td>\n",
       "      <td>19-4904CR-HY-087-0606-04400485-0010A-7</td>\n",
       "      <td>10</td>\n",
       "      <td>10.29</td>\n",
       "      <td>95.0</td>\n",
       "      <td>32.951</td>\n",
       "    </tr>\n",
       "    <tr>\n",
       "      <th>44.0</th>\n",
       "      <td>48.5</td>\n",
       "      <td>19-4904CR-HY-087-0606-04400485-0015A-3</td>\n",
       "      <td>15</td>\n",
       "      <td>10.29</td>\n",
       "      <td>95.3</td>\n",
       "      <td>32.990</td>\n",
       "    </tr>\n",
       "    <tr>\n",
       "      <th>44.0</th>\n",
       "      <td>48.5</td>\n",
       "      <td>19-4904CR-HY-087-0606-04400485-0020A-7</td>\n",
       "      <td>20</td>\n",
       "      <td>10.33</td>\n",
       "      <td>95.1</td>\n",
       "      <td>33.005</td>\n",
       "    </tr>\n",
       "    <tr>\n",
       "      <th>...</th>\n",
       "      <td>...</td>\n",
       "      <td>...</td>\n",
       "      <td>...</td>\n",
       "      <td>...</td>\n",
       "      <td>...</td>\n",
       "      <td>...</td>\n",
       "    </tr>\n",
       "    <tr>\n",
       "      <th>36.7</th>\n",
       "      <td>115.0</td>\n",
       "      <td>19-4911BD-HY-318-2130-03671150-0921A-3</td>\n",
       "      <td>921</td>\n",
       "      <td>3.91</td>\n",
       "      <td>4.8</td>\n",
       "      <td>34.370</td>\n",
       "    </tr>\n",
       "    <tr>\n",
       "      <th>36.7</th>\n",
       "      <td>115.0</td>\n",
       "      <td>19-4911BD-HY-318-2130-03671150-1000A-7</td>\n",
       "      <td>1000</td>\n",
       "      <td>3.73</td>\n",
       "      <td>5.4</td>\n",
       "      <td>34.401</td>\n",
       "    </tr>\n",
       "    <tr>\n",
       "      <th>36.7</th>\n",
       "      <td>115.0</td>\n",
       "      <td>19-4911BD-HY-318-2130-03671150-1100A-7</td>\n",
       "      <td>1100</td>\n",
       "      <td>3.51</td>\n",
       "      <td>6.4</td>\n",
       "      <td>34.440</td>\n",
       "    </tr>\n",
       "    <tr>\n",
       "      <th>36.7</th>\n",
       "      <td>115.0</td>\n",
       "      <td>19-4911BD-HY-318-2130-03671150-1200A-7</td>\n",
       "      <td>1200</td>\n",
       "      <td>3.29</td>\n",
       "      <td>7.3</td>\n",
       "      <td>34.481</td>\n",
       "    </tr>\n",
       "    <tr>\n",
       "      <th>36.7</th>\n",
       "      <td>115.0</td>\n",
       "      <td>19-4911BD-HY-318-2130-03671150-1247A-3</td>\n",
       "      <td>1247</td>\n",
       "      <td>3.18</td>\n",
       "      <td>7.6</td>\n",
       "      <td>34.500</td>\n",
       "    </tr>\n",
       "  </tbody>\n",
       "</table>\n",
       "<p>774 rows × 6 columns</p>\n",
       "</div>"
      ],
      "text/plain": [
       "      Sta_ID                                Depth_ID  Depthm  T_degC  O2Sat  \\\n",
       "44.0    48.5  19-4904CR-HY-087-0606-04400485-0000B-3       0   10.30   92.8   \n",
       "44.0    48.5  19-4904CR-HY-087-0606-04400485-0006A-3       6   18.46  111.8   \n",
       "44.0    48.5  19-4904CR-HY-087-0606-04400485-0010A-7      10   10.29   95.0   \n",
       "44.0    48.5  19-4904CR-HY-087-0606-04400485-0015A-3      15   10.29   95.3   \n",
       "44.0    48.5  19-4904CR-HY-087-0606-04400485-0020A-7      20   10.33   95.1   \n",
       "...      ...                                     ...     ...     ...    ...   \n",
       "36.7   115.0  19-4911BD-HY-318-2130-03671150-0921A-3     921    3.91    4.8   \n",
       "36.7   115.0  19-4911BD-HY-318-2130-03671150-1000A-7    1000    3.73    5.4   \n",
       "36.7   115.0  19-4911BD-HY-318-2130-03671150-1100A-7    1100    3.51    6.4   \n",
       "36.7   115.0  19-4911BD-HY-318-2130-03671150-1200A-7    1200    3.29    7.3   \n",
       "36.7   115.0  19-4911BD-HY-318-2130-03671150-1247A-3    1247    3.18    7.6   \n",
       "\n",
       "      Salnty  \n",
       "44.0  33.030  \n",
       "44.0  32.920  \n",
       "44.0  32.951  \n",
       "44.0  32.990  \n",
       "44.0  33.005  \n",
       "...      ...  \n",
       "36.7  34.370  \n",
       "36.7  34.401  \n",
       "36.7  34.440  \n",
       "36.7  34.481  \n",
       "36.7  34.500  \n",
       "\n",
       "[774 rows x 6 columns]"
      ]
     },
     "execution_count": 19,
     "metadata": {},
     "output_type": "execute_result"
    }
   ],
   "source": [
    "df"
   ]
  },
  {
   "cell_type": "code",
   "execution_count": 20,
   "id": "f691caa7",
   "metadata": {},
   "outputs": [
    {
     "name": "stdout",
     "output_type": "stream",
     "text": [
      "350.32859111538954\n"
     ]
    }
   ],
   "source": [
    "# Desvido\n",
    "\n",
    "desvio = df['Depthm'].std()\n",
    "print(desvio)"
   ]
  },
  {
   "cell_type": "code",
   "execution_count": 21,
   "id": "9f0d5ffd",
   "metadata": {},
   "outputs": [
    {
     "data": {
      "text/plain": [
       "122730.12175289402"
      ]
     },
     "execution_count": 21,
     "metadata": {},
     "output_type": "execute_result"
    }
   ],
   "source": [
    "# Variancia \n",
    "\n",
    "variancia = st.variance(df['Depthm'])\n",
    "variancia"
   ]
  },
  {
   "cell_type": "markdown",
   "id": "8ffff00c",
   "metadata": {},
   "source": [
    "# Plote as distribuições"
   ]
  },
  {
   "cell_type": "code",
   "execution_count": 22,
   "id": "5769c41f",
   "metadata": {},
   "outputs": [
    {
     "data": {
      "text/plain": [
       "(array([200., 122.,  58.,  67.,  43.,  16.,  33.,  32.,  11.,  33.,  27.,\n",
       "          4.,  30.,  26.,   4.,  26.,  16.,   4.,  18.,   4.]),\n",
       " array([   0. ,   65.8,  131.6,  197.4,  263.2,  329. ,  394.8,  460.6,\n",
       "         526.4,  592.2,  658. ,  723.8,  789.6,  855.4,  921.2,  987. ,\n",
       "        1052.8, 1118.6, 1184.4, 1250.2, 1316. ]),\n",
       " <BarContainer object of 20 artists>)"
      ]
     },
     "execution_count": 22,
     "metadata": {},
     "output_type": "execute_result"
    },
    {
     "data": {
      "image/png": "[encoded data removed]",
      "text/plain": [
       "<Figure size 432x288 with 1 Axes>"
      ]
     },
     "metadata": {
      "needs_background": "light"
     },
     "output_type": "display_data"
    }
   ],
   "source": [
    "# Plote \n",
    "\n",
    "plt.hist(df['Depthm'], bins =20)"
   ]
  },
  {
   "cell_type": "markdown",
   "id": "c4db58b2",
   "metadata": {},
   "source": [
    "# calculando assimetria "
   ]
  },
  {
   "cell_type": "code",
   "execution_count": 23,
   "id": "df25d934",
   "metadata": {},
   "outputs": [
    {
     "data": {
      "text/plain": [
       "-398658740.05687064"
      ]
     },
     "execution_count": 23,
     "metadata": {},
     "output_type": "execute_result"
    }
   ],
   "source": [
    "# assimetria \n",
    "media = df['Depthm'].mean()\n",
    "desvio = df['Depthm'].std()\n",
    "numerador = sum(df['T_degC']- df['Depthm'].mean())**3\n",
    "denominador = (desvio)**3\n",
    "assimetria = numerador/denominador\n",
    "assimetria"
   ]
  },
  {
   "cell_type": "code",
   "execution_count": null,
   "id": "e183998e",
   "metadata": {},
   "outputs": [],
   "source": [
    "# calculando curtose"
   ]
  },
  {
   "cell_type": "code",
   "execution_count": 24,
   "id": "d6816999",
   "metadata": {},
   "outputs": [
    {
     "data": {
      "text/plain": [
       "293405591794.5406"
      ]
     },
     "execution_count": 24,
     "metadata": {},
     "output_type": "execute_result"
    }
   ],
   "source": [
    "# curtose \n",
    "media = df['Depthm'].mean()\n",
    "desvio = df['Depthm'].std()\n",
    "numerador = sum(df['T_degC']- df['Depthm'].mean())**4\n",
    "denominador = (desvio)**4\n",
    "curtose = numerador/denominador\n",
    "curtose"
   ]
  },
  {
   "cell_type": "code",
   "execution_count": null,
   "id": "b6a46780",
   "metadata": {},
   "outputs": [],
   "source": []
  }
 ],
 "metadata": {
  "kernelspec": {
   "display_name": "Python 3 (ipykernel)",
   "language": "python",
   "name": "python3"
  },
  "language_info": {
   "codemirror_mode": {
    "name": "ipython",
    "version": 3
   },
   "file_extension": ".py",
   "mimetype": "text/x-python",
   "name": "python",
   "nbconvert_exporter": "python",
   "pygments_lexer": "ipython3",
   "version": "3.9.12"
  }
 },
 "nbformat": 4,
 "nbformat_minor": 5
}
